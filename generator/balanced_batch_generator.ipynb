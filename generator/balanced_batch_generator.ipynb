{
 "cells": [
  {
   "cell_type": "code",
   "execution_count": null,
   "metadata": {},
   "outputs": [],
   "source": [
    "import random\n",
    "import numpy as np\n",
    "\n",
    "def balanced_batch_generator(x, y, batch_size, categorical=True):\n",
    "    \"\"\"A generator for creating balanced batched.\n",
    "    This generator loops over its data indefinitely and yields balanced,\n",
    "    shuffled batches.\n",
    "    Args:\n",
    "    x (numpy.ndarray): Samples (inputs). Must have the same length as `y`.\n",
    "    y (numpy.ndarray): Labels (targets). Must be a binary class matrix (i.e.,\n",
    "        shape `(num_samples, num_classes)`). You can use `keras.utils.to_categorical`\n",
    "        to convert a class vector to a binary class matrix.\n",
    "    batch_size (int): Batch size.\n",
    "    categorical (bool, optional): If true, generates binary class matrices\n",
    "        (i.e., shape `(num_samples, num_classes)`) for batch labels (targets).\n",
    "        Otherwise, generates class vectors (i.e., shape `(num_samples, )`).\n",
    "        Defaults to `True`.\n",
    "    Returns a generator yielding batches as tuples `(inputs, targets)` that can\n",
    "        be directly used with Keras.\n",
    "    \"\"\"\n",
    "    if x.shape[0] != y.shape[0]:\n",
    "        raise ValueError('Args `x` and `y` must have the same length.')\n",
    "    if len(y.shape) != 2:\n",
    "        raise ValueError(\n",
    "            'Arg `y` must have a shape of (num_samples, num_classes). ' +\n",
    "            'You can use `keras.utils.to_categorical` to convert a class vector ' +\n",
    "            'to a binary class matrix.'\n",
    "        )\n",
    "    if batch_size < 1:\n",
    "        raise ValueError('Arg `batch_size` must be a positive integer.')\n",
    "    num_samples = y.shape[0]\n",
    "    num_classes = y.shape[1]\n",
    "    batch_x_shape = (batch_size, *x.shape[1:])\n",
    "    batch_y_shape = (batch_size, num_classes) if categorical else (batch_size, )\n",
    "    indexes = [0 for _ in range(num_classes)]\n",
    "    samples = [[] for _ in range(num_classes)]\n",
    "    for i in range(num_samples):\n",
    "        samples[np.argmax(y[i])].append(x[i])\n",
    "    while True:\n",
    "        batch_x = np.ndarray(shape=batch_x_shape, dtype=x.dtype)\n",
    "        batch_y = np.zeros(shape=batch_y_shape, dtype=y.dtype)\n",
    "        for i in range(batch_size):\n",
    "            random_class = random.randrange(num_classes)\n",
    "            current_index = indexes[random_class]\n",
    "            indexes[random_class] = (current_index + 1) % len(samples[random_class])\n",
    "            if current_index == 0:\n",
    "                random.shuffle(samples[random_class])\n",
    "            batch_x[i] = samples[random_class][current_index]\n",
    "            if categorical:\n",
    "                batch_y[i][random_class] = 1\n",
    "            else:\n",
    "                batch_y[i] = random_class\n",
    "        yield (batch_x, batch_y)"
   ]
  }
 ],
 "metadata": {
  "kernelspec": {
   "display_name": "Python 3",
   "language": "python",
   "name": "python3"
  },
  "language_info": {
   "codemirror_mode": {
    "name": "ipython",
    "version": 3
   },
   "file_extension": ".py",
   "mimetype": "text/x-python",
   "name": "python",
   "nbconvert_exporter": "python",
   "pygments_lexer": "ipython3",
   "version": "3.6.8"
  }
 },
 "nbformat": 4,
 "nbformat_minor": 2
}
