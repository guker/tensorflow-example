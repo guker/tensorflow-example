{
 "cells": [
  {
   "cell_type": "markdown",
   "metadata": {},
   "source": [
    "# YOLOv3"
   ]
  },
  {
   "cell_type": "markdown",
   "metadata": {},
   "source": [
    "YOLOv3没有太多的创新性的技巧，主要是借鉴一些好的算法方案融合到YOLO里面,不过效果还是不错的，在保持速度优势的前提下，提升预测精度，尤其是加强对小物体的识别能力。\n",
    "YOLOv3主要的改进有：调整网络结构;利用多尺度特征进行对象检测; 目标分类用Logistic取代softmax。"
   ]
  },
  {
   "cell_type": "markdown",
   "metadata": {},
   "source": [
    "## Darknet-53\n",
    "在图像特征提取方面,YOLOv3采用Darknet-53的网络结构，该网络包含53个卷积层，它借鉴了残差网络residual network的作法，在一些层之间设置shortcut connections.\n",
    "<center> ![darknet53](./pic/darknet-53.png)</center>\n",
    "\n",
    "上图中的Darknet-53网络采用256x256x3尺寸作为输入，最左侧的一列表示多少个重复的残差组件。每个残差组件都有两个卷积层和一个shortcut connections。\n",
    "<center> ![residual](./pic/residual.png)</center>"
   ]
  },
  {
   "cell_type": "markdown",
   "metadata": {},
   "source": [
    "## 使用多尺度特征进行检测\n",
    "YOLOv2采用passthrough结构来检测细粒度特征，在YOLOv3更一步采用3个不同尺度的特征图来进行对象检测，类似于FPN。\n",
    "<center> ![yolo3-scales](./pic/yolo3-scales.jpeg) </center>\n",
    "\n",
    "结合上图可以看出，特征图为13x13，由于下采样倍数高，特征图的感受野也比较大,因此适合检测图像中尺度比较大的对象，而特征图为52x52的，它的感受野最小，适合检测小尺寸的目标。\n",
    "随着输出的特征图的数量与尺度的变化，先验框的尺寸也需要相应的调整，YOLOv2已经开始采用k-means聚类得到先验框的尺寸，YOLOv3延续了这种方法，为每种下采样尺度设定3个先验框，总共聚类出9种尺寸的先验框。在COCO数据集这9个先验框是：(10x13)，(16x30)，(33x23)，(30x61)，(62x45)，(59x119)，(116x90)，(156x198)，(373x326)。\n",
    "分配上，在最小的13x13的特征图上，具有最大的感受野，应使用较大的先验框(116x90)，(156x198)，(373x326)，适合检测较大的对象，中等的26x26特征图上，具有中等的感受野，使用中等的先验框(30x61)，(62x45)，(59x119)，适合检测中等大小的对象。较大的52x52特征图上，具有较小的感受野，应使用较小的先验框(10x13)，(16x30)，(33x23)适合检测较小的对象。\n",
    "<center> ![yolov3anchor](./pic/yolov3anchor.png)</center>\n"
   ]
  },
  {
   "cell_type": "markdown",
   "metadata": {},
   "source": [
    "## 使用logistic分类\n",
    "不管在检测任务的标注数据集，还是在日常场景中，物体之间的相互覆盖都是不能避免的，因此一个网格的感受野肯定会有包含两个甚至多个不同物理的可能，之前的方法中是选择和网格IOU最大的Ground Truth作为匹配类别，使用softmax作为激活函数。\n",
    "YOLOv3多标签模型的提出，对于解决覆盖率高的图像的检测问题效果是十分显著的。YOLOv3提供的解决方案是将一个softmax分类器替换成N个sigmoid分类器，这样每个类的输出仍是[0,1]之间的一个值,但是它们的和不再是1. 虽然YOLOv3改变输出层的激活函数，但是其锚点和ground truth的匹配方法仍旧采用YOLOv1的方法，即每个ground truth匹配且只匹配唯一一个与其IOU最大的锚点。但是在输出的时候由于各类的概率之和不再是1，只要置信度大于阈值，该锚点便被作为检测框输出。"
   ]
  },
  {
   "cell_type": "markdown",
   "metadata": {},
   "source": [
    "## 小结\n",
    "YOLOv3借鉴残差网络结构，形成更深的网络层次，以及多尺度检测，提升mAP以及小物体检测效果，如果采用Pascal VOC mAP50做评估指标，YOLOv3的表现相当惊人，如下图所示，在精确度相当的情况下，YOLOv3的速度是其他模型的3到4倍。\n",
    "<center> ![yolov3result](./pic/yolov3result.png)</center>\n",
    "\n",
    "不过如果要求更精确的预测边框，采用COCO AP做评估标准的话，YOLOv3在精确率上的表现就弱了一下。如下图所示:\n",
    "<center> ![yolov3coco](./pic/yolov3coco.png)</center>"
   ]
  },
  {
   "cell_type": "code",
   "execution_count": null,
   "metadata": {},
   "outputs": [],
   "source": []
  }
 ],
 "metadata": {
  "kernelspec": {
   "display_name": "Python 3",
   "language": "python",
   "name": "python3"
  },
  "language_info": {
   "codemirror_mode": {
    "name": "ipython",
    "version": 3
   },
   "file_extension": ".py",
   "mimetype": "text/x-python",
   "name": "python",
   "nbconvert_exporter": "python",
   "pygments_lexer": "ipython3",
   "version": "3.6.5"
  }
 },
 "nbformat": 4,
 "nbformat_minor": 2
}
